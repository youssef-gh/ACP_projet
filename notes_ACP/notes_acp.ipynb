{
 "cells": [
  {
   "cell_type": "markdown",
   "metadata": {},
   "source": [
    "<h1 style=\"text-align: center\">Exemple d'application de la méthode d'analyse en composantes principales</h1>"
   ]
  },
  {
   "cell_type": "markdown",
   "metadata": {},
   "source": [
    "##### Encadré par :\n",
    "- M. Ghazdali"
   ]
  },
  {
   "cell_type": "markdown",
   "metadata": {},
   "source": [
    "---"
   ]
  },
  {
   "cell_type": "markdown",
   "metadata": {},
   "source": [
    "Dans cette partie on appliquera l'ACP pour le jeu de données suivant:"
   ]
  },
  {
   "cell_type": "markdown",
   "metadata": {},
   "source": [
    "|Etudiant|RO|Crypto|UML|PLSQL|\n",
    "|---|---|---|---|---|\n",
    "|Aymane|12|10|12.5|13|\n",
    "|Adham|14|13|11|10|\n",
    "|Ziyad|10|10|14|15|\n",
    "|Youssef|12|13|15.5|16|\n",
    "|Amina|14.5|14.5|15|15|\n",
    "|Manal|11|10|8|7|\n",
    "|Akram|7|8|8|8.5|\n",
    "|Karim|6|7|14|13.5|\n",
    "|Jihan|14|14.5|14.5|14|"
   ]
  },
  {
   "cell_type": "markdown",
   "metadata": {},
   "source": [
    "### Librairies"
   ]
  },
  {
   "cell_type": "markdown",
   "metadata": {},
   "source": [
    "Avant de commencer, il faut d'abord importer les modules qu'on va utiliser."
   ]
  },
  {
   "cell_type": "markdown",
   "metadata": {},
   "source": [
    "Pour appliquer l'ACP il faut importer les librairies suivantes : \n",
    "\n",
    "- Pandas : Pour gérer et manipuler les structures de données multidimentionnels.\n",
    "- Numpy : Pour gérer les calculs matriciels\n",
    "- matplotlib.pyplot : pour visualiser les données\n",
    "- sklearn.preprocessing.standardScaler() : pour centrer et réduire nos données\n",
    "- sklearn.decomposition.PCA : pour appliquer l'ACP (PCA : Principal components analysis)"
   ]
  },
  {
   "cell_type": "code",
   "execution_count": 548,
   "metadata": {},
   "outputs": [],
   "source": [
    "# librairies\n",
    "import pandas as pd \n",
    "import numpy as np  \n",
    "import matplotlib.pyplot as plt\n",
    "from sklearn.preprocessing import StandardScaler \n",
    "from sklearn.decomposition import PCA"
   ]
  },
  {
   "cell_type": "markdown",
   "metadata": {},
   "source": [
    "#### Importer la table des données"
   ]
  },
  {
   "cell_type": "markdown",
   "metadata": {},
   "source": [
    "les données du tableau des notes sont stockées dans un fichier csv **\"notes.csv\"**. la méthode pandas.read_csv() permet de lire le fichier et retourne une **DataFrame** (structure de données de 2 dimensions) contenant nos données."
   ]
  },
  {
   "cell_type": "code",
   "execution_count": 549,
   "metadata": {},
   "outputs": [
    {
     "name": "stdout",
     "output_type": "stream",
     "text": [
      "            RO  Crypto   UML  PLSQL\n",
      "Etudiant                           \n",
      "Aymane    12.0    10.0  12.5   13.0\n",
      "Adham     14.0    13.0  11.0   10.0\n",
      "Ziyad     10.0    10.0  14.0   15.0\n",
      "Youssef   12.0    13.0  15.5   16.0\n",
      "Amina     14.5    14.5  15.0   15.0\n",
      "Manal     11.0    10.0   8.0    7.0\n",
      "Akram      7.0     8.0   8.0    8.5\n",
      "Karim      6.0     7.0  14.0   13.5\n",
      "Jihan     14.0    14.5  14.5   14.0\n"
     ]
    }
   ],
   "source": [
    "# tableau des données\n",
    "notes = pd.read_csv(\"notes.csv\", header=0).set_index(\"Etudiant\")\n",
    "print(notes)"
   ]
  },
  {
   "cell_type": "markdown",
   "metadata": {},
   "source": [
    "### Calcul de la matrice centrée réduite"
   ]
  },
  {
   "cell_type": "markdown",
   "metadata": {},
   "source": [
    "##### Pour ce jeu de données, les variables varient de manières differentes. il est recommendé donc de centrer et réduire nos données. (ACP normé)"
   ]
  },
  {
   "cell_type": "markdown",
   "metadata": {},
   "source": [
    "l'objet StandardScaler permet de réduire nos données. il faut juste faire appel à la méthode **fit_transform()** en passant notre jeu de données en paramètres. la méthode retourne la matrice centrée réduite de notre jeu de données."
   ]
  },
  {
   "cell_type": "code",
   "execution_count": 550,
   "metadata": {},
   "outputs": [
    {
     "name": "stdout",
     "output_type": "stream",
     "text": [
      "\n",
      "La matrice centrée réduite est : \n",
      "\n"
     ]
    },
    {
     "data": {
      "text/html": [
       "<div>\n",
       "<style scoped>\n",
       "    .dataframe tbody tr th:only-of-type {\n",
       "        vertical-align: middle;\n",
       "    }\n",
       "\n",
       "    .dataframe tbody tr th {\n",
       "        vertical-align: top;\n",
       "    }\n",
       "\n",
       "    .dataframe thead th {\n",
       "        text-align: right;\n",
       "    }\n",
       "</style>\n",
       "<table border=\"1\" class=\"dataframe\">\n",
       "  <thead>\n",
       "    <tr style=\"text-align: right;\">\n",
       "      <th></th>\n",
       "      <th>RO</th>\n",
       "      <th>Crypto</th>\n",
       "      <th>UML</th>\n",
       "      <th>PLSQL</th>\n",
       "    </tr>\n",
       "    <tr>\n",
       "      <th>Etudiant</th>\n",
       "      <th></th>\n",
       "      <th></th>\n",
       "      <th></th>\n",
       "      <th></th>\n",
       "    </tr>\n",
       "  </thead>\n",
       "  <tbody>\n",
       "    <tr>\n",
       "      <th>Aymane</th>\n",
       "      <td>0.290619</td>\n",
       "      <td>-0.428944</td>\n",
       "      <td>0.000000</td>\n",
       "      <td>0.185504</td>\n",
       "    </tr>\n",
       "    <tr>\n",
       "      <th>Adham</th>\n",
       "      <td>0.988105</td>\n",
       "      <td>0.729204</td>\n",
       "      <td>-0.551825</td>\n",
       "      <td>-0.816216</td>\n",
       "    </tr>\n",
       "    <tr>\n",
       "      <th>Ziyad</th>\n",
       "      <td>-0.406867</td>\n",
       "      <td>-0.428944</td>\n",
       "      <td>0.551825</td>\n",
       "      <td>0.853316</td>\n",
       "    </tr>\n",
       "    <tr>\n",
       "      <th>Youssef</th>\n",
       "      <td>0.290619</td>\n",
       "      <td>0.729204</td>\n",
       "      <td>1.103651</td>\n",
       "      <td>1.187223</td>\n",
       "    </tr>\n",
       "    <tr>\n",
       "      <th>Amina</th>\n",
       "      <td>1.162476</td>\n",
       "      <td>1.308278</td>\n",
       "      <td>0.919709</td>\n",
       "      <td>0.853316</td>\n",
       "    </tr>\n",
       "    <tr>\n",
       "      <th>Manal</th>\n",
       "      <td>-0.058124</td>\n",
       "      <td>-0.428944</td>\n",
       "      <td>-1.655476</td>\n",
       "      <td>-1.817935</td>\n",
       "    </tr>\n",
       "    <tr>\n",
       "      <th>Akram</th>\n",
       "      <td>-1.453095</td>\n",
       "      <td>-1.201042</td>\n",
       "      <td>-1.655476</td>\n",
       "      <td>-1.317075</td>\n",
       "    </tr>\n",
       "    <tr>\n",
       "      <th>Karim</th>\n",
       "      <td>-1.801838</td>\n",
       "      <td>-1.587091</td>\n",
       "      <td>0.551825</td>\n",
       "      <td>0.352457</td>\n",
       "    </tr>\n",
       "    <tr>\n",
       "      <th>Jihan</th>\n",
       "      <td>0.988105</td>\n",
       "      <td>1.308278</td>\n",
       "      <td>0.735767</td>\n",
       "      <td>0.519410</td>\n",
       "    </tr>\n",
       "  </tbody>\n",
       "</table>\n",
       "</div>"
      ],
      "text/plain": [
       "                RO    Crypto       UML     PLSQL\n",
       "Etudiant                                        \n",
       "Aymane    0.290619 -0.428944  0.000000  0.185504\n",
       "Adham     0.988105  0.729204 -0.551825 -0.816216\n",
       "Ziyad    -0.406867 -0.428944  0.551825  0.853316\n",
       "Youssef   0.290619  0.729204  1.103651  1.187223\n",
       "Amina     1.162476  1.308278  0.919709  0.853316\n",
       "Manal    -0.058124 -0.428944 -1.655476 -1.817935\n",
       "Akram    -1.453095 -1.201042 -1.655476 -1.317075\n",
       "Karim    -1.801838 -1.587091  0.551825  0.352457\n",
       "Jihan     0.988105  1.308278  0.735767  0.519410"
      ]
     },
     "execution_count": 550,
     "metadata": {},
     "output_type": "execute_result"
    }
   ],
   "source": [
    "Z = StandardScaler().fit_transform(notes)\n",
    "\n",
    "print(\"\\nLa matrice centrée réduite est : \\n\")\n",
    "pd.DataFrame(Z, columns=notes.columns, index=notes.index)"
   ]
  },
  {
   "cell_type": "markdown",
   "metadata": {},
   "source": [
    "$ Z = \\begin{pmatrix}\n",
    "0.290619 & -0.428944 & 0.000000 & 0.185504\\\\\n",
    "0.988105 & 0.729204 & -0.551825 & -0.816216\\\\\n",
    "-0.406867 & -0.428944 & 0.551825 & 0.853316\\\\\n",
    "0.290619 & 0.729204 & 1.103651 & 1.187223\\\\\n",
    "1.162476 & 1.308278 & 0.919709 & 0.853316\\\\\n",
    "-0.058124 & -0.428944 & -1.655476 & -1.817935\\\\\n",
    "-1.453095 & -1.201042 & -1.655476 & -1.317075\\\\\n",
    "-1.801838 & -1.587091 & 0.551825 & 0.352457\\\\\n",
    "0.988105 & 1.308278 & 0.735767 & 0.519410\n",
    "\\end{pmatrix} $"
   ]
  },
  {
   "cell_type": "markdown",
   "metadata": {},
   "source": [
    "<br>\n",
    "<h2>Calcul de la matrice de Covariance des données centrées réduites (Matrice de corrélations)</h2>\n",
    "<br>"
   ]
  },
  {
   "cell_type": "markdown",
   "metadata": {},
   "source": [
    "La structure de données **DataFrame** de **Pandas** permet facilement de calculer la matrice des corrélations des variables à partir d'un jeu de données. Tout en appelant la méthode **corr()**."
   ]
  },
  {
   "cell_type": "markdown",
   "metadata": {},
   "source": [
    "Cette methode retourne une **DataFrame** carrée, avec les noms des variables en lignes et en colonnes et contenent les corrélations entres les variables"
   ]
  },
  {
   "cell_type": "code",
   "execution_count": 551,
   "metadata": {},
   "outputs": [
    {
     "name": "stdout",
     "output_type": "stream",
     "text": [
      "              RO    Crypto       UML     PLSQL\n",
      "RO      1.000000  0.936191  0.317178  0.237208\n",
      "Crypto  0.936191  1.000000  0.461569  0.380347\n",
      "UML     0.317178  0.461569  1.000000  0.975885\n",
      "PLSQL   0.237208  0.380347  0.975885  1.000000\n"
     ]
    }
   ],
   "source": [
    "# Matrice de correlations\n",
    "matrice_correlations = pd.DataFrame(Z, columns=notes.columns, index=notes.index).corr()\n",
    "\n",
    "print(matrice_correlations)"
   ]
  },
  {
   "cell_type": "markdown",
   "metadata": {},
   "source": [
    "C'est la même matrice qu'on a trouvé dans la première partie de cette présentation.\n",
    "\n",
    "$ R = \\begin{pmatrix}\n",
    "1.000000 & 0.936191 & 0.317178 & 0.237208\\\\\n",
    "0.936191 & 1.000000 & 0.461569 & 0.380347\\\\\n",
    "0.317178 & 0.461569 & 1.000000 & 0.975885\\\\\n",
    "0.237208 & 0.380347 & 0.975885 & 1.000000\n",
    "\\end{pmatrix} $"
   ]
  },
  {
   "cell_type": "markdown",
   "metadata": {},
   "source": [
    "d'après cette matrice, on remarque que toutes les corrélations linéaires sont positives (ce qui signifie que toutes les variables varient, en moyenne, dans le même sens), certaines étant très fortes (0.97 et 0.93), d’autres moyenne (0.38 et 0.46), d’autres enfin plutôt faibles (0.31 et 0.23). Par exemple, la variable **RO** et la variable **Crypto** sont corrélées positivement cette corrélation est très forte. c'est à dire, en revenant à la matrice des données initiales, on trouve que les etudiants ayant une bonne note en RO ont une bonne note en Crypto et vice-versa. exemple (Akram et Manal) en revanche, la variable **RO** et **PLSQL** ne sont pas corrélées (exemple : Karim a une bonne note en PLSQL et une mauvaise note en RO.)"
   ]
  },
  {
   "cell_type": "markdown",
   "metadata": {},
   "source": [
    "|Etudiant|RO|Crypto|UML|PLSQL|\n",
    "|---|---|---|---|---|\n",
    "|Aymane|12|10|12.5|13|\n",
    "|Adham|14|13|11|10|\n",
    "|Ziyad|10|10|14|15|\n",
    "|Youssef|12|13|15.5|16|\n",
    "|Amina|14.5|14.5|15|15|\n",
    "|Manal|11|10|8|7|\n",
    "|Akram|7|8|8|8.5|\n",
    "|Karim|6|7|14|13.5|\n",
    "|Jihan|14|14.5|14.5|14|"
   ]
  },
  {
   "cell_type": "markdown",
   "metadata": {},
   "source": [
    "## Application de l'ACP"
   ]
  },
  {
   "cell_type": "markdown",
   "metadata": {},
   "source": [
    "Pour calculer les valeurs propres, on peut directement appliquer la methode d'analyse en composantes principale sur notes matrice centrée réduite et le programme va faire le reste pour nous"
   ]
  },
  {
   "cell_type": "markdown",
   "metadata": {},
   "source": [
    "### Instanciation d'un objet ACP"
   ]
  },
  {
   "cell_type": "markdown",
   "metadata": {},
   "source": [
    "L'objet **ACP** de la bibliothèque **sklearn.decomposition** permet de faire le reste du processus de l'ACP"
   ]
  },
  {
   "cell_type": "markdown",
   "metadata": {},
   "source": [
    "Cet objet contient plusieurs attributs et méthodes que nous aurons besoin au cours de notre analyse.\n",
    "Ces attributs et méthodes sont : \n",
    "\n",
    "- la méthode **fit_transform()** : pour appliquer l'ACP sur une matrice de données.\n",
    "- l'attribut **explained_variance_** : liste contenant les valeurs propres de chaque axe principal\n",
    "- l'attribut **explained_variance_ratio_** : liste contenant la qté d'information retenue par chaque axe principal.\n",
    "- l'attribut **components_** : liste contenant les vecteurs propres de chaque axes principal"
   ]
  },
  {
   "cell_type": "code",
   "execution_count": 552,
   "metadata": {},
   "outputs": [],
   "source": [
    "#instanciation\n",
    "model_acp = PCA(svd_solver='full')"
   ]
  },
  {
   "cell_type": "markdown",
   "metadata": {},
   "source": [
    "svd : Singular value decomposition (decomposition en valeurs singuliers)\n",
    "\n",
    "Rappel : les valeurs singulier d'une matrice sont les racines carrées des valeurs propres de cette matrice"
   ]
  },
  {
   "cell_type": "markdown",
   "metadata": {},
   "source": [
    "**svd_solver='full'** applique l'ACP sur toute la matrice des données centrée réduite sans spécifier le nombres de composantes principales à retenir, c'est à dire que cette methode va retenir touts les axes principaux (4 axes dans ce cas)."
   ]
  },
  {
   "cell_type": "markdown",
   "metadata": {},
   "source": [
    "### Application de l'ACP sur la matrice Z centrée réduite"
   ]
  },
  {
   "cell_type": "markdown",
   "metadata": {},
   "source": [
    "La méthode **fit_transform()** applique l'analyse en composantes principales sur un jeu de données"
   ]
  },
  {
   "cell_type": "markdown",
   "metadata": {},
   "source": [
    "Cette methode prend en paramètres la matrice centrées réduite et retourne les coordonnées des individus sur tous les axes principaux de note ACP."
   ]
  },
  {
   "cell_type": "markdown",
   "metadata": {},
   "source": [
    "Une fois la méthode fit_transform() est appelée, l'objet va calculer les valeurs et les vecteurs propres, ainsi que les coordonnées de chaque individus sur tous les axes principaux."
   ]
  },
  {
   "cell_type": "markdown",
   "metadata": {},
   "source": [
    "#### Pour trouver théoriquement les coordonnées des individus sur chaque axe factoriel, il suffit de projeter les coordonnées de chaque individu dans la matrice centrée réduite sur les vecteurs propres (vecteurs unitaires) des axes principaux."
   ]
  },
  {
   "cell_type": "markdown",
   "metadata": {},
   "source": [
    "Soit Cik les coordonnées de l'individu i sur l'axe factoriel k. il est exprimé par la relation :"
   ]
  },
  {
   "cell_type": "markdown",
   "metadata": {},
   "source": [
    "### $ C^{i}_{k} = Z_{i}U_{k} $"
   ]
  },
  {
   "cell_type": "code",
   "execution_count": 553,
   "metadata": {},
   "outputs": [
    {
     "data": {
      "text/html": [
       "<div>\n",
       "<style scoped>\n",
       "    .dataframe tbody tr th:only-of-type {\n",
       "        vertical-align: middle;\n",
       "    }\n",
       "\n",
       "    .dataframe tbody tr th {\n",
       "        vertical-align: top;\n",
       "    }\n",
       "\n",
       "    .dataframe thead th {\n",
       "        text-align: right;\n",
       "    }\n",
       "</style>\n",
       "<table border=\"1\" class=\"dataframe\">\n",
       "  <thead>\n",
       "    <tr style=\"text-align: right;\">\n",
       "      <th></th>\n",
       "      <th>F1</th>\n",
       "      <th>F2</th>\n",
       "      <th>F3</th>\n",
       "      <th>F4</th>\n",
       "    </tr>\n",
       "    <tr>\n",
       "      <th>Etudiant</th>\n",
       "      <th></th>\n",
       "      <th></th>\n",
       "      <th></th>\n",
       "      <th></th>\n",
       "    </tr>\n",
       "  </thead>\n",
       "  <tbody>\n",
       "    <tr>\n",
       "      <th>Aymane</th>\n",
       "      <td>-0.003164</td>\n",
       "      <td>0.124880</td>\n",
       "      <td>0.531032</td>\n",
       "      <td>-0.072550</td>\n",
       "    </tr>\n",
       "    <tr>\n",
       "      <th>Adham</th>\n",
       "      <td>-0.146201</td>\n",
       "      <td>-1.562470</td>\n",
       "      <td>0.049180</td>\n",
       "      <td>0.117060</td>\n",
       "    </tr>\n",
       "    <tr>\n",
       "      <th>Ziyad</th>\n",
       "      <td>-0.297293</td>\n",
       "      <td>1.118629</td>\n",
       "      <td>0.135896</td>\n",
       "      <td>-0.154954</td>\n",
       "    </tr>\n",
       "    <tr>\n",
       "      <th>Youssef</th>\n",
       "      <td>-1.674791</td>\n",
       "      <td>0.630416</td>\n",
       "      <td>-0.185029</td>\n",
       "      <td>-0.084587</td>\n",
       "    </tr>\n",
       "    <tr>\n",
       "      <th>Amina</th>\n",
       "      <td>-2.118914</td>\n",
       "      <td>-0.379957</td>\n",
       "      <td>-0.048596</td>\n",
       "      <td>-0.020735</td>\n",
       "    </tr>\n",
       "    <tr>\n",
       "      <th>Manal</th>\n",
       "      <td>2.010078</td>\n",
       "      <td>-1.476735</td>\n",
       "      <td>0.051841</td>\n",
       "      <td>0.094925</td>\n",
       "    </tr>\n",
       "    <tr>\n",
       "      <th>Akram</th>\n",
       "      <td>2.810691</td>\n",
       "      <td>-0.080926</td>\n",
       "      <td>-0.278452</td>\n",
       "      <td>-0.212623</td>\n",
       "    </tr>\n",
       "    <tr>\n",
       "      <th>Karim</th>\n",
       "      <td>1.197177</td>\n",
       "      <td>2.165450</td>\n",
       "      <td>-0.047057</td>\n",
       "      <td>0.263815</td>\n",
       "    </tr>\n",
       "    <tr>\n",
       "      <th>Jihan</th>\n",
       "      <td>-1.777582</td>\n",
       "      <td>-0.539287</td>\n",
       "      <td>-0.208816</td>\n",
       "      <td>0.069649</td>\n",
       "    </tr>\n",
       "  </tbody>\n",
       "</table>\n",
       "</div>"
      ],
      "text/plain": [
       "                F1        F2        F3        F4\n",
       "Etudiant                                        \n",
       "Aymane   -0.003164  0.124880  0.531032 -0.072550\n",
       "Adham    -0.146201 -1.562470  0.049180  0.117060\n",
       "Ziyad    -0.297293  1.118629  0.135896 -0.154954\n",
       "Youssef  -1.674791  0.630416 -0.185029 -0.084587\n",
       "Amina    -2.118914 -0.379957 -0.048596 -0.020735\n",
       "Manal     2.010078 -1.476735  0.051841  0.094925\n",
       "Akram     2.810691 -0.080926 -0.278452 -0.212623\n",
       "Karim     1.197177  2.165450 -0.047057  0.263815\n",
       "Jihan    -1.777582 -0.539287 -0.208816  0.069649"
      ]
     },
     "execution_count": 553,
     "metadata": {},
     "output_type": "execute_result"
    }
   ],
   "source": [
    "# APPLICATION DE L'ACP\n",
    "coordonnees = model_acp.fit_transform(Z)\n",
    "\n",
    "pd.DataFrame(coordonnees, columns=['F1', 'F2', 'F3', 'F4'], index=notes.index)"
   ]
  },
  {
   "cell_type": "markdown",
   "metadata": {},
   "source": [
    "### Les vecteurs propres de chaque axe principal sont : "
   ]
  },
  {
   "cell_type": "code",
   "execution_count": 554,
   "metadata": {},
   "outputs": [
    {
     "data": {
      "text/html": [
       "<div>\n",
       "<style scoped>\n",
       "    .dataframe tbody tr th:only-of-type {\n",
       "        vertical-align: middle;\n",
       "    }\n",
       "\n",
       "    .dataframe tbody tr th {\n",
       "        vertical-align: top;\n",
       "    }\n",
       "\n",
       "    .dataframe thead th {\n",
       "        text-align: right;\n",
       "    }\n",
       "</style>\n",
       "<table border=\"1\" class=\"dataframe\">\n",
       "  <thead>\n",
       "    <tr style=\"text-align: right;\">\n",
       "      <th></th>\n",
       "      <th>0</th>\n",
       "      <th>1</th>\n",
       "      <th>2</th>\n",
       "      <th>3</th>\n",
       "    </tr>\n",
       "  </thead>\n",
       "  <tbody>\n",
       "    <tr>\n",
       "      <th>U1</th>\n",
       "      <td>-0.463237</td>\n",
       "      <td>-0.519456</td>\n",
       "      <td>-0.522538</td>\n",
       "      <td>-0.492475</td>\n",
       "    </tr>\n",
       "    <tr>\n",
       "      <th>U2</th>\n",
       "      <td>-0.565144</td>\n",
       "      <td>-0.448600</td>\n",
       "      <td>0.455679</td>\n",
       "      <td>0.521274</td>\n",
       "    </tr>\n",
       "    <tr>\n",
       "      <th>U3</th>\n",
       "      <td>0.681877</td>\n",
       "      <td>-0.719676</td>\n",
       "      <td>-0.011833</td>\n",
       "      <td>0.130266</td>\n",
       "    </tr>\n",
       "    <tr>\n",
       "      <th>U4</th>\n",
       "      <td>0.032663</td>\n",
       "      <td>-0.104830</td>\n",
       "      <td>0.720535</td>\n",
       "      <td>-0.684670</td>\n",
       "    </tr>\n",
       "  </tbody>\n",
       "</table>\n",
       "</div>"
      ],
      "text/plain": [
       "           0         1         2         3\n",
       "U1 -0.463237 -0.519456 -0.522538 -0.492475\n",
       "U2 -0.565144 -0.448600  0.455679  0.521274\n",
       "U3  0.681877 -0.719676 -0.011833  0.130266\n",
       "U4  0.032663 -0.104830  0.720535 -0.684670"
      ]
     },
     "execution_count": 554,
     "metadata": {},
     "output_type": "execute_result"
    }
   ],
   "source": [
    "pd.DataFrame(model_acp.components_, index=[\"U1\", \"U2\", \"U3\", \"U4\"])"
   ]
  },
  {
   "cell_type": "markdown",
   "metadata": {},
   "source": [
    "### Calcul des valeurs Propres"
   ]
  },
  {
   "cell_type": "markdown",
   "metadata": {},
   "source": [
    "Les valeurs propres d'un axe nous permettent de determiner la quantité d'information contenue sur chaque axe principal. "
   ]
  },
  {
   "cell_type": "markdown",
   "metadata": {},
   "source": [
    "l'objet acp nous fournit la possibilité de calculer les valeurs propes avec l'attribut **explained_variance_**"
   ]
  },
  {
   "cell_type": "code",
   "execution_count": 555,
   "metadata": {},
   "outputs": [
    {
     "name": "stdout",
     "output_type": "stream",
     "text": [
      "[2.99223983 1.42716632 0.05818999 0.02240386]\n"
     ]
    }
   ],
   "source": [
    "# calcul des valeurs propres\n",
    "valeurs_propres = model_acp.explained_variance_\n",
    "\n",
    "print(valeurs_propres)"
   ]
  },
  {
   "cell_type": "markdown",
   "metadata": {},
   "source": [
    "#### l’éboulis des valeurs propres"
   ]
  },
  {
   "cell_type": "markdown",
   "metadata": {},
   "source": [
    "A l’ aide de l’affichage des valeurs propres et leurs cumulées on peut déterminer le nombre de composantes principales que l’on doit retenir."
   ]
  },
  {
   "cell_type": "code",
   "execution_count": 556,
   "metadata": {},
   "outputs": [
    {
     "data": {
      "image/png": "[encoded data removed]",
      "text/plain": [
       "<Figure size 432x288 with 1 Axes>"
      ]
     },
     "metadata": {
      "needs_background": "light"
     },
     "output_type": "display_data"
    }
   ],
   "source": [
    "plt.plot(np.arange(1,notes.shape[1]+1), valeurs_propres)\n",
    "plt.title(\"l’éboulis des valeurs propres\")\n",
    "plt.ylabel(\"Valeurs propres\")\n",
    "plt.xlabel(\"Nombre de composantes principales\")\n",
    "plt.show()"
   ]
  },
  {
   "cell_type": "markdown",
   "metadata": {},
   "source": [
    "Pour determiner le nombre de dimensions à retenir, il faut d'abord calculer l'inertie totale contenue dans nos données.\n",
    "pour calculer l'inertie totale de nos données, il suffit de calculer la somme des valeurs propres."
   ]
  },
  {
   "cell_type": "markdown",
   "metadata": {},
   "source": [
    "### Inertie totale = $\\sum_{i=1}^{p} \\lambda_{i}$"
   ]
  },
  {
   "cell_type": "markdown",
   "metadata": {},
   "source": [
    "Puis on calcule le taux d'inertie retenue par chaque axe par la formule"
   ]
  },
  {
   "cell_type": "markdown",
   "metadata": {},
   "source": [
    "### Taux d'intertie retenue par un axe $ k = \\frac{\\lambda_{k}}{\\sum_{i=1}^{p} \\lambda_{i}} $"
   ]
  },
  {
   "cell_type": "markdown",
   "metadata": {},
   "source": [
    "En Python, l'attribut **explained_variance_ratio_** est une liste contenant le taux d'inertie éxpliquée par chaque axe principal"
   ]
  },
  {
   "cell_type": "code",
   "execution_count": 557,
   "metadata": {},
   "outputs": [
    {
     "name": "stdout",
     "output_type": "stream",
     "text": [
      "[0.66494219 0.31714807 0.01293111 0.00497864]\n"
     ]
    }
   ],
   "source": [
    "# le taux d'inertie expliqué par chaque axe\n",
    "info_expliquee = model_acp.explained_variance_ratio_\n",
    "\n",
    "print(info_expliquee)"
   ]
  },
  {
   "cell_type": "code",
   "execution_count": 558,
   "metadata": {},
   "outputs": [
    {
     "name": "stdout",
     "output_type": "stream",
     "text": [
      "[0.66494219 0.98209026 0.99502136 1.        ]\n"
     ]
    },
    {
     "data": {
      "image/png": "[encoded data removed]",
      "text/plain": [
       "<Figure size 432x288 with 1 Axes>"
      ]
     },
     "metadata": {
      "needs_background": "light"
     },
     "output_type": "display_data"
    }
   ],
   "source": [
    "print(np.cumsum(info_expliquee))\n",
    "\n",
    "#cumul de l'information expliquée\n",
    "plt.bar(np.arange(1,notes.shape[1]+1),np.cumsum(info_expliquee))\n",
    "plt.title(\"information cumulée\")\n",
    "plt.ylabel(\"taux d'information obtenu par chaque axe\")\n",
    "plt.xlabel(\"nombre d'axe\")\n",
    "plt.show()"
   ]
  },
  {
   "cell_type": "markdown",
   "metadata": {},
   "source": [
    "D'après le graphe ci-dessus, le premier axe retient 71% de l’inertie totale quant à l’axe 2 retient 27.99% de l’inertie. donc les 2 premiers axes retiennent à un taux d’inertie expliquée de 99%. il est donc suffisant de retenir les 2 premiers axes. c'est à dire, on peut passer d'un espace de 4 dimensions à un espace de 2 dimensions tout en conservant 99% de l'inertie totale."
   ]
  },
  {
   "cell_type": "markdown",
   "metadata": {},
   "source": [
    "### La représentation des individus dans l’espace des 2 axes principaux d’inertie."
   ]
  },
  {
   "cell_type": "markdown",
   "metadata": {},
   "source": [
    "Maintenant, on represente le nuages des individus sur les 2 axes principaux avec **Matplotlib**."
   ]
  },
  {
   "cell_type": "code",
   "execution_count": 559,
   "metadata": {},
   "outputs": [
    {
     "data": {
      "image/png": "[encoded data removed]",
      "text/plain": [
       "<Figure size 864x864 with 1 Axes>"
      ]
     },
     "metadata": {
      "needs_background": "light"
     },
     "output_type": "display_data"
    }
   ],
   "source": [
    "figure = plt.figure(figsize=(12,12)) # définir une figure de taille : 12 x 12\n",
    "\n",
    "#placement des étiquettes des observations\n",
    "for i in range(notes.shape[0]):\n",
    "    plt.scatter(coordonnees[i,0],coordonnees[i,1])\n",
    "    plt.annotate(notes.index[i],(coordonnees[i,0],coordonnees[i,1]))\n",
    "    \n",
    "\n",
    "#ajouter les axes\n",
    "plt.plot([-3,3],[0,0],color='silver',linestyle='-',linewidth=1)\n",
    "plt.plot([0,0],[-3,3],color='silver',linestyle='-',linewidth=1)\n",
    "\n",
    "#affichage\n",
    "plt.show()"
   ]
  },
  {
   "cell_type": "markdown",
   "metadata": {},
   "source": [
    "### Calculer la qualité de la représentation des individus"
   ]
  },
  {
   "cell_type": "markdown",
   "metadata": {},
   "source": [
    "Pour calculer la qualité de représentation des individus sur les axes, nous devons d’abord calculer les carrés des distances à l’origine des individus, qui correspondent également à leur contribution dans l’inertie totale"
   ]
  },
  {
   "cell_type": "code",
   "execution_count": 560,
   "metadata": {},
   "outputs": [],
   "source": [
    "di = np.sum(Z**2,axis=1) "
   ]
  },
  {
   "cell_type": "markdown",
   "metadata": {},
   "source": [
    "### $ d_{i}^{2} = \\sum_{j=1}^{p} z_{ij}^{2} $"
   ]
  },
  {
   "cell_type": "code",
   "execution_count": 561,
   "metadata": {},
   "outputs": [
    {
     "data": {
      "text/plain": [
       "0    0.302864\n",
       "1    2.478809\n",
       "2    1.382193\n",
       "3    3.243741\n",
       "4    4.636956\n",
       "5    6.232859\n",
       "6    8.029277\n",
       "7    6.194218\n",
       "8    3.499083\n",
       "dtype: float64"
      ]
     },
     "execution_count": 561,
     "metadata": {},
     "output_type": "execute_result"
    }
   ],
   "source": [
    "pd.Series(di)"
   ]
  },
  {
   "cell_type": "markdown",
   "metadata": {},
   "source": [
    "Nous pouvons alors déduire la qualité de représentation des individus sur l’axe n°k avec :"
   ]
  },
  {
   "cell_type": "markdown",
   "metadata": {},
   "source": [
    "### $ cos_{ik}^{2} = \\frac{F_{ik}^{2}}{d_{i}^{2}} $"
   ]
  },
  {
   "cell_type": "code",
   "execution_count": 562,
   "metadata": {},
   "outputs": [
    {
     "data": {
      "text/html": [
       "<div>\n",
       "<style scoped>\n",
       "    .dataframe tbody tr th:only-of-type {\n",
       "        vertical-align: middle;\n",
       "    }\n",
       "\n",
       "    .dataframe tbody tr th {\n",
       "        vertical-align: top;\n",
       "    }\n",
       "\n",
       "    .dataframe thead th {\n",
       "        text-align: right;\n",
       "    }\n",
       "</style>\n",
       "<table border=\"1\" class=\"dataframe\">\n",
       "  <thead>\n",
       "    <tr style=\"text-align: right;\">\n",
       "      <th></th>\n",
       "      <th>COS2_1</th>\n",
       "      <th>COS2_2</th>\n",
       "    </tr>\n",
       "    <tr>\n",
       "      <th>Etudiant</th>\n",
       "      <th></th>\n",
       "      <th></th>\n",
       "    </tr>\n",
       "  </thead>\n",
       "  <tbody>\n",
       "    <tr>\n",
       "      <th>Aymane</th>\n",
       "      <td>0.000033</td>\n",
       "      <td>0.051492</td>\n",
       "    </tr>\n",
       "    <tr>\n",
       "      <th>Adham</th>\n",
       "      <td>0.008623</td>\n",
       "      <td>0.984873</td>\n",
       "    </tr>\n",
       "    <tr>\n",
       "      <th>Ziyad</th>\n",
       "      <td>0.063944</td>\n",
       "      <td>0.905323</td>\n",
       "    </tr>\n",
       "    <tr>\n",
       "      <th>Youssef</th>\n",
       "      <td>0.864719</td>\n",
       "      <td>0.122520</td>\n",
       "    </tr>\n",
       "    <tr>\n",
       "      <th>Amina</th>\n",
       "      <td>0.968264</td>\n",
       "      <td>0.031134</td>\n",
       "    </tr>\n",
       "    <tr>\n",
       "      <th>Manal</th>\n",
       "      <td>0.648244</td>\n",
       "      <td>0.349879</td>\n",
       "    </tr>\n",
       "    <tr>\n",
       "      <th>Akram</th>\n",
       "      <td>0.983897</td>\n",
       "      <td>0.000816</td>\n",
       "    </tr>\n",
       "    <tr>\n",
       "      <th>Karim</th>\n",
       "      <td>0.231382</td>\n",
       "      <td>0.757024</td>\n",
       "    </tr>\n",
       "    <tr>\n",
       "      <th>Jihan</th>\n",
       "      <td>0.903036</td>\n",
       "      <td>0.083116</td>\n",
       "    </tr>\n",
       "  </tbody>\n",
       "</table>\n",
       "</div>"
      ],
      "text/plain": [
       "            COS2_1    COS2_2\n",
       "Etudiant                    \n",
       "Aymane    0.000033  0.051492\n",
       "Adham     0.008623  0.984873\n",
       "Ziyad     0.063944  0.905323\n",
       "Youssef   0.864719  0.122520\n",
       "Amina     0.968264  0.031134\n",
       "Manal     0.648244  0.349879\n",
       "Akram     0.983897  0.000816\n",
       "Karim     0.231382  0.757024\n",
       "Jihan     0.903036  0.083116"
      ]
     },
     "execution_count": 562,
     "metadata": {},
     "output_type": "execute_result"
    }
   ],
   "source": [
    "cos2 = coordonnees**2\n",
    "for j in range(notes.shape[1]):\n",
    "    cos2[:,j] = cos2[:,j]/di\n",
    "pd.DataFrame({'COS2_1':cos2[:,0],'COS2_2':cos2[:,1]}, index=notes.index)"
   ]
  },
  {
   "cell_type": "markdown",
   "metadata": {},
   "source": [
    "D'après le tableau ci-dessus, on remarque que les etudiants: Amina, Youssef, Akram, Jihan sont les plus bien représentés sur le 1er axe par rapport au autres. et les etudiants Adham, Ziyad et Karim sont les plus bien représentés sur le 2ème axe principal."
   ]
  },
  {
   "cell_type": "markdown",
   "metadata": {},
   "source": [
    "On remarque encore d'après le graph des nuages des individus qu'on trouve les étudiants Amina, Jihan et Akram sur les extrémités du 1er axe principale. on peut dire alors que, dans le graphe du nuages des individus, les individus les plus bien représentés sur un axes se trouves sur ses extrémités."
   ]
  },
  {
   "cell_type": "markdown",
   "metadata": {},
   "source": [
    "### Calculer la contribution de chacun des individus à chaque axe"
   ]
  },
  {
   "cell_type": "markdown",
   "metadata": {},
   "source": [
    "Les contributions aux axes permettent de déterminer les individus qui pèsent le plus dans la définition de chaque axes."
   ]
  },
  {
   "cell_type": "markdown",
   "metadata": {},
   "source": [
    "Elle est donnée par la relation"
   ]
  },
  {
   "cell_type": "markdown",
   "metadata": {},
   "source": [
    "### $ CTR_{ik} = \\frac{F_{ik}^{2}}{n \\times \\lambda_{k}} $"
   ]
  },
  {
   "cell_type": "code",
   "execution_count": 563,
   "metadata": {},
   "outputs": [
    {
     "name": "stdout",
     "output_type": "stream",
     "text": [
      "        id         CTR_1     CTR_2\n",
      "0   Aymane  3.717299e-07  0.001214\n",
      "1    Adham  7.937107e-04  0.190067\n",
      "2    Ziyad  3.281943e-03  0.097422\n",
      "3  Youssef  1.041556e-01  0.030941\n",
      "4    Amina  1.667201e-01  0.011240\n",
      "5    Manal  1.500330e-01  0.169781\n",
      "6    Akram  2.933508e-01  0.000510\n",
      "7    Karim  5.322033e-02  0.365073\n",
      "8    Jihan  1.173330e-01  0.022642\n"
     ]
    }
   ],
   "source": [
    "#contributions aux axes\n",
    "ctr = coordonnees**2 # calcule le carrée chaque valeur de la matrice des composantes principales \n",
    "\n",
    "for j in range(notes.shape[1]): # pour chaque colonne de la matrice précedente (ctr), on divise par N*la valeur propre de l'axe correspondant.\n",
    "    ctr[:,j] = ctr[:,j]/(notes.shape[0]*valeurs_propres[j])\n",
    "\n",
    "print(pd.DataFrame({'id':notes.index,'CTR_1':ctr[:,0],'CTR_2':ctr[:,1]}))"
   ]
  },
  {
   "cell_type": "markdown",
   "metadata": {},
   "source": [
    "<br>\n",
    "<h2>Représentation des variables</h2>"
   ]
  },
  {
   "cell_type": "markdown",
   "metadata": {},
   "source": [
    "###  Tracer le cercle des corrélations"
   ]
  },
  {
   "cell_type": "markdown",
   "metadata": {},
   "source": [
    "Pour les variables, on les représente sur le cercle des corrélations."
   ]
  },
  {
   "cell_type": "markdown",
   "metadata": {},
   "source": [
    "Nous avons besoin d'abord de calculer les corrélation entre les variables et les axes principaux qu'on a retenu."
   ]
  },
  {
   "cell_type": "markdown",
   "metadata": {},
   "source": [
    "La corrélation entre une variable j et un axe k est donnée par la relation suivante :"
   ]
  },
  {
   "cell_type": "markdown",
   "metadata": {},
   "source": [
    "### $ Corr(X^{j}, F_{k}) = U_{k}^{j}\\sqrt{\\lambda_{j}} $"
   ]
  },
  {
   "cell_type": "code",
   "execution_count": 564,
   "metadata": {},
   "outputs": [
    {
     "data": {
      "text/html": [
       "<div>\n",
       "<style scoped>\n",
       "    .dataframe tbody tr th:only-of-type {\n",
       "        vertical-align: middle;\n",
       "    }\n",
       "\n",
       "    .dataframe tbody tr th {\n",
       "        vertical-align: top;\n",
       "    }\n",
       "\n",
       "    .dataframe thead th {\n",
       "        text-align: right;\n",
       "    }\n",
       "</style>\n",
       "<table border=\"1\" class=\"dataframe\">\n",
       "  <thead>\n",
       "    <tr style=\"text-align: right;\">\n",
       "      <th></th>\n",
       "      <th>F1</th>\n",
       "      <th>F2</th>\n",
       "      <th>F3</th>\n",
       "      <th>F4</th>\n",
       "    </tr>\n",
       "    <tr>\n",
       "      <th>0</th>\n",
       "      <th></th>\n",
       "      <th></th>\n",
       "      <th></th>\n",
       "      <th></th>\n",
       "    </tr>\n",
       "  </thead>\n",
       "  <tbody>\n",
       "    <tr>\n",
       "      <th>RO</th>\n",
       "      <td>-0.801312</td>\n",
       "      <td>-0.675144</td>\n",
       "      <td>0.164487</td>\n",
       "      <td>0.004889</td>\n",
       "    </tr>\n",
       "    <tr>\n",
       "      <th>Crypto</th>\n",
       "      <td>-0.898560</td>\n",
       "      <td>-0.535916</td>\n",
       "      <td>-0.173605</td>\n",
       "      <td>-0.015691</td>\n",
       "    </tr>\n",
       "    <tr>\n",
       "      <th>UML</th>\n",
       "      <td>-0.903891</td>\n",
       "      <td>0.544373</td>\n",
       "      <td>-0.002855</td>\n",
       "      <td>0.107849</td>\n",
       "    </tr>\n",
       "    <tr>\n",
       "      <th>PLSQL</th>\n",
       "      <td>-0.851887</td>\n",
       "      <td>0.622735</td>\n",
       "      <td>0.031424</td>\n",
       "      <td>-0.102481</td>\n",
       "    </tr>\n",
       "  </tbody>\n",
       "</table>\n",
       "</div>"
      ],
      "text/plain": [
       "              F1        F2        F3        F4\n",
       "0                                             \n",
       "RO     -0.801312 -0.675144  0.164487  0.004889\n",
       "Crypto -0.898560 -0.535916 -0.173605 -0.015691\n",
       "UML    -0.903891  0.544373 -0.002855  0.107849\n",
       "PLSQL  -0.851887  0.622735  0.031424 -0.102481"
      ]
     },
     "execution_count": 564,
     "metadata": {},
     "output_type": "execute_result"
    }
   ],
   "source": [
    "#racine carrée des valeurs propres\n",
    "racine_valeurs_propres = np.sqrt(valeurs_propres) # racine carrée des valeurs propres\n",
    "\n",
    "#corrélation des variables avec les axes\n",
    "correlations = np.zeros((notes.shape[1], notes.shape[1])) # initialiser la matrice de corrélations\n",
    "for k in range(notes.shape[1]):\n",
    "    correlations[:,k] = model_acp.components_[k,:] * racine_valeurs_propres[k]\n",
    "\n",
    "#afficher la matrice des correlations variables x facteurs\n",
    "pd.concat([pd.DataFrame(notes.columns), pd.DataFrame(correlations, columns=[\"F1\", \"F2\", \"F3\", 'F4'])], axis=1).set_index(0)"
   ]
  },
  {
   "cell_type": "code",
   "execution_count": 565,
   "metadata": {},
   "outputs": [
    {
     "data": {
      "image/png": "[encoded data removed]",
      "text/plain": [
       "<Figure size 576x576 with 1 Axes>"
      ]
     },
     "metadata": {
      "needs_background": "light"
     },
     "output_type": "display_data"
    }
   ],
   "source": [
    "#cercle des corrélations\n",
    "fig, axes = plt.subplots(figsize=(8,8))\n",
    "axes.set_xlim(-1,1)\n",
    "axes.set_ylim(-1,1)\n",
    "#affichage des étiquettes (noms des variables)\n",
    "for j in range(notes.shape[1]):\n",
    "    plt.scatter(correlations[j,0],correlations[j,1])\n",
    "    plt.annotate(notes.columns[j],(correlations[j,0],correlations[j,1]))\n",
    "\n",
    "#ajouter les axes\n",
    "plt.plot([-1,1],[0,0],color='silver',linestyle='-',linewidth=1)\n",
    "plt.plot([0,0],[-1,1],color='silver',linestyle='-',linewidth=1)\n",
    "\n",
    "\n",
    "#affichage\n",
    "plt.show()\n"
   ]
  },
  {
   "cell_type": "markdown",
   "metadata": {},
   "source": [
    "Plus on se deplace vers la droite, on trouve des etudiants qui ont des bonnes notes dans toutes les matières (Le cas de Amina et Jihan) C'est ce qu'on trouve dans la matrice des corrélations (toutes les variables sont corrélés positivement et fortement avec le 1er axe). Plus on de deplace vers la gauche, on trouve des etudiant qui ont de mauvaises notes dans toutes les matières (Le cas de Akram)."
   ]
  },
  {
   "cell_type": "markdown",
   "metadata": {},
   "source": [
    "Plus on monte vers le haut, on trouve des etudiants qui ont des bonnes notes en UML et en PLSQL mais de mauvaises notes en RO et en Crypto (Le cas de Karim). Plus on descend vers le bas, on trouve des etudiant qui ont de bonnes notes en RO et En Crypto mais de relativement mauvaises notes en UML et en PLSQL (le cas de Manal)"
   ]
  },
  {
   "cell_type": "markdown",
   "metadata": {},
   "source": [
    "### Calculer la qualité de la représentation des variables"
   ]
  },
  {
   "cell_type": "markdown",
   "metadata": {},
   "source": [
    "On peut calculer la qualité de représentation des variables en montant la corrélation au carré :"
   ]
  },
  {
   "cell_type": "markdown",
   "metadata": {},
   "source": [
    "### $ cos_{jk}^{2} = r_{jk}^{2} $"
   ]
  },
  {
   "cell_type": "code",
   "execution_count": 566,
   "metadata": {},
   "outputs": [
    {
     "data": {
      "text/html": [
       "<div>\n",
       "<style scoped>\n",
       "    .dataframe tbody tr th:only-of-type {\n",
       "        vertical-align: middle;\n",
       "    }\n",
       "\n",
       "    .dataframe tbody tr th {\n",
       "        vertical-align: top;\n",
       "    }\n",
       "\n",
       "    .dataframe thead th {\n",
       "        text-align: right;\n",
       "    }\n",
       "</style>\n",
       "<table border=\"1\" class=\"dataframe\">\n",
       "  <thead>\n",
       "    <tr style=\"text-align: right;\">\n",
       "      <th></th>\n",
       "      <th>COS2_1</th>\n",
       "      <th>COS2_2</th>\n",
       "    </tr>\n",
       "  </thead>\n",
       "  <tbody>\n",
       "    <tr>\n",
       "      <th>RO</th>\n",
       "      <td>0.642100</td>\n",
       "      <td>0.455820</td>\n",
       "    </tr>\n",
       "    <tr>\n",
       "      <th>Crypto</th>\n",
       "      <td>0.807409</td>\n",
       "      <td>0.287206</td>\n",
       "    </tr>\n",
       "    <tr>\n",
       "      <th>UML</th>\n",
       "      <td>0.817019</td>\n",
       "      <td>0.296342</td>\n",
       "    </tr>\n",
       "    <tr>\n",
       "      <th>PLSQL</th>\n",
       "      <td>0.725712</td>\n",
       "      <td>0.387799</td>\n",
       "    </tr>\n",
       "  </tbody>\n",
       "</table>\n",
       "</div>"
      ],
      "text/plain": [
       "          COS2_1    COS2_2\n",
       "RO      0.642100  0.455820\n",
       "Crypto  0.807409  0.287206\n",
       "UML     0.817019  0.296342\n",
       "PLSQL   0.725712  0.387799"
      ]
     },
     "execution_count": 566,
     "metadata": {},
     "output_type": "execute_result"
    }
   ],
   "source": [
    "#cosinus carré des variables\n",
    "cos2var = correlations**2\n",
    "pd.DataFrame({'COS2_1':cos2var[:,0],'COS2_2':cos2var[:,1]}, index=notes.columns)"
   ]
  },
  {
   "cell_type": "markdown",
   "metadata": {},
   "source": [
    "### Calculer la contributions des variables"
   ]
  },
  {
   "cell_type": "markdown",
   "metadata": {},
   "source": [
    "La contribution est également basée sur le carré de la corrélation, mais relativisée par l’importance de l’axe."
   ]
  },
  {
   "cell_type": "markdown",
   "metadata": {},
   "source": [
    "### $ CTR_{jk} = \\frac{r_{jk}^{2}}{\\lambda_{k}} $"
   ]
  },
  {
   "cell_type": "code",
   "execution_count": 567,
   "metadata": {},
   "outputs": [
    {
     "data": {
      "text/html": [
       "<div>\n",
       "<style scoped>\n",
       "    .dataframe tbody tr th:only-of-type {\n",
       "        vertical-align: middle;\n",
       "    }\n",
       "\n",
       "    .dataframe tbody tr th {\n",
       "        vertical-align: top;\n",
       "    }\n",
       "\n",
       "    .dataframe thead th {\n",
       "        text-align: right;\n",
       "    }\n",
       "</style>\n",
       "<table border=\"1\" class=\"dataframe\">\n",
       "  <thead>\n",
       "    <tr style=\"text-align: right;\">\n",
       "      <th></th>\n",
       "      <th>CTR_1</th>\n",
       "      <th>CTR_2</th>\n",
       "    </tr>\n",
       "  </thead>\n",
       "  <tbody>\n",
       "    <tr>\n",
       "      <th>RO</th>\n",
       "      <td>0.214588</td>\n",
       "      <td>0.319388</td>\n",
       "    </tr>\n",
       "    <tr>\n",
       "      <th>Crypto</th>\n",
       "      <td>0.269834</td>\n",
       "      <td>0.201242</td>\n",
       "    </tr>\n",
       "    <tr>\n",
       "      <th>UML</th>\n",
       "      <td>0.273046</td>\n",
       "      <td>0.207644</td>\n",
       "    </tr>\n",
       "    <tr>\n",
       "      <th>PLSQL</th>\n",
       "      <td>0.242531</td>\n",
       "      <td>0.271726</td>\n",
       "    </tr>\n",
       "  </tbody>\n",
       "</table>\n",
       "</div>"
      ],
      "text/plain": [
       "           CTR_1     CTR_2\n",
       "RO      0.214588  0.319388\n",
       "Crypto  0.269834  0.201242\n",
       "UML     0.273046  0.207644\n",
       "PLSQL   0.242531  0.271726"
      ]
     },
     "execution_count": 567,
     "metadata": {},
     "output_type": "execute_result"
    }
   ],
   "source": [
    "#contributions\n",
    "ctrvar = cos2var\n",
    "for k in range(notes.shape[1]):\n",
    "    ctrvar[:,k] = ctrvar[:,k]/valeurs_propres[k]\n",
    "#on n'affiche que pour les deux premiers axes\n",
    "pd.DataFrame({'CTR_1':ctrvar[:,0],'CTR_2':ctrvar[:,1]}, index=notes.columns)"
   ]
  },
  {
   "cell_type": "markdown",
   "metadata": {},
   "source": [
    "Pour le 1er axe, toutes les variables contribuent de la meme proportion à la definition du 1er axe."
   ]
  },
  {
   "cell_type": "markdown",
   "metadata": {},
   "source": [
    "Mais pour le 2eme axe, on trouve que les variables RO et UML contribuent le plus à la definition de cet axe"
   ]
  }
 ],
 "metadata": {
  "kernelspec": {
   "display_name": "Python 3",
   "language": "python",
   "name": "python3"
  },
  "language_info": {
   "codemirror_mode": {
    "name": "ipython",
    "version": 3
   },
   "file_extension": ".py",
   "mimetype": "text/x-python",
   "name": "python",
   "nbconvert_exporter": "python",
   "pygments_lexer": "ipython3",
   "version": "3.8.8"
  }
 },
 "nbformat": 4,
 "nbformat_minor": 4
}
